{
 "cells": [
  {
   "cell_type": "markdown",
   "metadata": {},
   "source": [
    "\n",
    "Goals :\n",
    "1. Implementing a linear Regression Model.\n",
    "2. Defining and testing various loss functions within the Python framework.\n",
    "3. Experimenting with minimizing loss through gradient Descent.\n",
    "4. In the end use the set Model to predict Final grades.\n"
   ]
  },
  {
   "cell_type": "markdown",
   "metadata": {},
   "source": [
    "## Initialize"
   ]
  },
  {
   "cell_type": "code",
   "execution_count": 204,
   "metadata": {},
   "outputs": [],
   "source": [
    "import pandas as pd\n",
    "import numpy as np\n",
    "import seaborn as sns\n",
    "import matplotlib.pyplot as plt\n",
    "np.random.seed(42)\n",
    "plt.style.use('fivethirtyeight')\n",
    "sns.set()\n",
    "sns.set_context(\"talk\")\n",
    "%matplotlib inline"
   ]
  },
  {
   "cell_type": "markdown",
   "metadata": {},
   "source": [
    "### Load Data: Using sample set of CS 205 grades"
   ]
  },
  {
   "cell_type": "code",
   "execution_count": 1,
   "metadata": {},
   "outputs": [
    {
     "data": {
      "text/html": [
       "<div>\n",
       "<style scoped>\n",
       "    .dataframe tbody tr th:only-of-type {\n",
       "        vertical-align: middle;\n",
       "    }\n",
       "\n",
       "    .dataframe tbody tr th {\n",
       "        vertical-align: top;\n",
       "    }\n",
       "\n",
       "    .dataframe thead th {\n",
       "        text-align: right;\n",
       "    }\n",
       "</style>\n",
       "<table border=\"1\" class=\"dataframe\">\n",
       "  <thead>\n",
       "    <tr style=\"text-align: right;\">\n",
       "      <th></th>\n",
       "      <th>midtermRaw</th>\n",
       "      <th>finalRaw</th>\n",
       "    </tr>\n",
       "  </thead>\n",
       "  <tbody>\n",
       "    <tr>\n",
       "      <th>3</th>\n",
       "      <td>45.5</td>\n",
       "      <td>62.0</td>\n",
       "    </tr>\n",
       "    <tr>\n",
       "      <th>4</th>\n",
       "      <td>58.0</td>\n",
       "      <td>60.5</td>\n",
       "    </tr>\n",
       "    <tr>\n",
       "      <th>5</th>\n",
       "      <td>68.0</td>\n",
       "      <td>32.0</td>\n",
       "    </tr>\n",
       "    <tr>\n",
       "      <th>6</th>\n",
       "      <td>64.5</td>\n",
       "      <td>50.5</td>\n",
       "    </tr>\n",
       "    <tr>\n",
       "      <th>7</th>\n",
       "      <td>74.0</td>\n",
       "      <td>51.0</td>\n",
       "    </tr>\n",
       "  </tbody>\n",
       "</table>\n",
       "</div>"
      ],
      "text/plain": [
       "   midtermRaw  finalRaw\n",
       "3        45.5      62.0\n",
       "4        58.0      60.5\n",
       "5        68.0      32.0\n",
       "6        64.5      50.5\n",
       "7        74.0      51.0"
      ]
     },
     "execution_count": 1,
     "metadata": {},
     "output_type": "execute_result"
    }
   ],
   "source": [
    "import pandas as pd\n",
    "df = pd.read_csv(\"data/CS205_grades_12_19_18_Final.csv\")\n",
    "df_cleaned = df[['midtermRaw','finalRaw']]\n",
    "# drop all undefined rows \n",
    "df_cleaned = df_cleaned.dropna() \n",
    "df_cleaned.head()"
   ]
  },
  {
   "cell_type": "markdown",
   "metadata": {},
   "source": [
    "### Normalize data using the MinMaxScaler. Giving each Midterm and Final score a value between 0 and 1\n"
   ]
  },
  {
   "cell_type": "code",
   "execution_count": 3,
   "metadata": {},
   "outputs": [],
   "source": [
    "from sklearn.preprocessing import MinMaxScaler\n",
    "\n",
    "x = df_cleaned.dropna().iloc[:,[0]]\n",
    "y = df_cleaned.dropna().iloc[:,[1]]\n",
    "\n",
    "scaler = MinMaxScaler()\n",
    "\n",
    "X_scaled_values = scaler.fit_transform(x)\n",
    "X_scaled_values[:,:] = X_scaled_values\n",
    "Y_scaled_values = scaler.fit_transform(y)\n",
    "Y_scaled_values[:,:] = Y_scaled_values\n",
    "\n",
    "x = X_scaled_values\n",
    "y = Y_scaled_values"
   ]
  },
  {
   "cell_type": "markdown",
   "metadata": {},
   "source": [
    "### Plot the Data to see if Linear Regression would be a good fit"
   ]
  },
  {
   "cell_type": "code",
   "execution_count": 4,
   "metadata": {},
   "outputs": [
    {
     "data": {
      "text/plain": [
       "<matplotlib.collections.PathCollection at 0x233a0c2d0f0>"
      ]
     },
     "execution_count": 4,
     "metadata": {},
     "output_type": "execute_result"
    },
    {
     "data": {
      "image/png": "[encoded data removed]",
      "text/plain": [
       "<Figure size 432x288 with 1 Axes>"
      ]
     },
     "metadata": {
      "needs_background": "light"
     },
     "output_type": "display_data"
    }
   ],
   "source": [
    "import numpy as np\n",
    "import matplotlib.pyplot as plt\n",
    "\n",
    "\n",
    "\n",
    "plt.scatter(x,y)\n"
   ]
  },
  {
   "cell_type": "markdown",
   "metadata": {},
   "source": [
    "## From this we can see that Linear Regression would be a good fit due to the fit of the scatterplot."
   ]
  },
  {
   "cell_type": "markdown",
   "metadata": {},
   "source": [
    "# How to create a manual Linear Regression Line\n",
    "## First Define a basic function intended to return the product of theta0,theta1, and x"
   ]
  },
  {
   "cell_type": "code",
   "execution_count": 208,
   "metadata": {},
   "outputs": [],
   "source": [
    "# define the function h(theta)\n",
    "def h(theta0, theta1, x):\n",
    "    return theta0 + theta1*x"
   ]
  },
  {
   "cell_type": "markdown",
   "metadata": {},
   "source": [
    "### Manually Define a square loss(L2) Function"
   ]
  },
  {
   "cell_type": "code",
   "execution_count": 209,
   "metadata": {},
   "outputs": [
    {
     "data": {
      "text/plain": [
       "0.023489423483239062"
      ]
     },
     "execution_count": 209,
     "metadata": {},
     "output_type": "execute_result"
    }
   ],
   "source": [
    "import numpy as np\n",
    "\n",
    "def sqerror(x, y, theta0, theta1):\n",
    "    return np.mean((y-h(theta0,theta1,x))*(y-h(theta0,theta1,x)))\n",
    "    \n",
    "sqerror(x, y, 0.29,0.52)"
   ]
  },
  {
   "cell_type": "markdown",
   "metadata": {},
   "source": [
    "### Defining the L1 absolute error function"
   ]
  },
  {
   "cell_type": "code",
   "execution_count": 210,
   "metadata": {},
   "outputs": [
    {
     "data": {
      "text/plain": [
       "0.1258878083450344"
      ]
     },
     "execution_count": 210,
     "metadata": {},
     "output_type": "execute_result"
    }
   ],
   "source": [
    "import numpy as np\n",
    "import math\n",
    "\n",
    "def abserror(x, y, theta0, theta1):\n",
    "\n",
    "    output = np.mean(abs(y-h(theta0,theta1,x)))\n",
    "    return output\n",
    "\n",
    "abserror(x, y, 0.29,0.52)"
   ]
  },
  {
   "attachments": {
    "image.png": {
     "image/png": "[encoded data removed]"
    }
   },
   "cell_type": "markdown",
   "metadata": {},
   "source": [
    "### Define a function called huberror that computes the pseudo huber error based off of the 2 arguments provided:\n",
    "The equation for this function is given by \n",
    "![image.png](attachment:image.png)\n",
    "The following function finds the average huber error."
   ]
  },
  {
   "cell_type": "code",
   "execution_count": 211,
   "metadata": {},
   "outputs": [
    {
     "data": {
      "text/plain": [
       "0.006994227909507368"
      ]
     },
     "execution_count": 211,
     "metadata": {},
     "output_type": "execute_result"
    }
   ],
   "source": [
    "import numpy as np\n",
    "import math\n",
    "\n",
    "def huberror(x, y, theta0, theta1, delta):\n",
    "\n",
    "    a = ((y - h(theta0, theta1,x))/delta)**2\n",
    "    b = np.sqrt(1 + a) - 1\n",
    "    sqard = delta**2\n",
    "    return np.mean(sqard * b)\n",
    "    \n",
    "\n",
    "huberror(x, y, 0.29,0.52,0.1)"
   ]
  },
  {
   "cell_type": "markdown",
   "metadata": {},
   "source": [
    "### In the spirit of trying to understand the impact higher or lower theta's have on the ouput, I created an slider to show the difference. Try it out for yourself!"
   ]
  },
  {
   "cell_type": "code",
   "execution_count": 9,
   "metadata": {},
   "outputs": [
    {
     "name": "stderr",
     "output_type": "stream",
     "text": [
      "Enabling notebook extension jupyter-js-widgets/extension...\n",
      "      - Validating: ok\n"
     ]
    }
   ],
   "source": [
    "from ipywidgets import interact\n",
    "!jupyter nbextension enable --py widgetsnbextension"
   ]
  },
  {
   "cell_type": "code",
   "execution_count": 10,
   "metadata": {},
   "outputs": [
    {
     "data": {
      "application/vnd.jupyter.widget-view+json": {
       "model_id": "1d68a91e17ad4c2f8b20801e4dba1ee1",
       "version_major": 2,
       "version_minor": 0
      },
      "text/plain": [
       "interactive(children=(FloatSlider(value=0.0, description='theta0', max=1.0), FloatSlider(value=0.0, descriptio…"
      ]
     },
     "metadata": {},
     "output_type": "display_data"
    }
   ],
   "source": [
    "\n",
    "import pylab\n",
    "import numpy\n",
    "\n",
    "def f(theta0, theta1):\n",
    "  \n",
    "\n",
    "    y1 = h(theta0, theta1, x) \n",
    "    pylab.plot(x,y1) \n",
    "    \n",
    "    sqerr = round(sqerror(x, y, theta0, theta1),6)\n",
    "    abserr = round(abserror(x, y, theta0, theta1),4)\n",
    "    huberr = round(huberror(x, y, theta0, theta1, 0.01),4)\n",
    "    pylab.title('L1=' + str(abserr) + '  L2=' + str(sqerr) + '  hub=' + str(huberr))\n",
    "    \n",
    "    pylab.scatter(x, y, alpha=0.5)\n",
    "    pylab.show() \n",
    "\n",
    "interact(f, theta1=(0,1,0.1), theta0=(0,1,0.1));\n"
   ]
  },
  {
   "cell_type": "markdown",
   "metadata": {},
   "source": [
    "### What are the \"best\" values for each error function?"
   ]
  },
  {
   "cell_type": "code",
   "execution_count": 11,
   "metadata": {},
   "outputs": [],
   "source": [
    "\n",
    "\n",
    "# BEST VALUES FOR AVE SQUARE ERROR\n",
    "theta0 = .10\n",
    "theta1 = .80\n",
    "error = .0014\n",
    "# BEST VALUES FOR AVE ABS ERROR\n",
    "theta0 = .10\n",
    "theta1 = 1.00\n",
    "error = .0015\n",
    "\n",
    "# BEST VALUES FOR AVE HUBER ERROR\n",
    "theta0 = .10\n",
    "theta1 = 1.00\n",
    "error = .0015"
   ]
  },
  {
   "cell_type": "markdown",
   "metadata": {},
   "source": [
    "# Gradient Descent Exploration\n",
    "In this task we use the Gradient descent methods to find a \"better\" values for theta0 and theta1 that minimizes the error. Gradient descent is an iterative algorithm. It computes values of theta0 and theta1 in the direction of reaching the minimum point in the error function. The iterative formulas using L2 loss function for theta0 and theta1 are given by:\n",
    "$$\n",
    "\\theta_0 = \\theta_0 - \\alpha*(\\sum(\\theta_1*x_j + \\theta_0)-y_j)\n",
    "$$\n",
    "$$\n",
    "\\theta_1 = \\theta_1 - \\alpha*(\\sum(\\theta_1*x_j + \\theta_0 - y_j)*x_j\n",
    "$$\n"
   ]
  },
  {
   "cell_type": "markdown",
   "metadata": {},
   "source": [
    "### Compute using Gradient Descent algorithm (L2 loss)\n",
    "\n",
    "Given the observed data (obsX,obsY), learning rate (alpha), and desired error threshold, \n",
    "The function returns theta0 and theta1 when it reaches the error threshold.\n",
    "The convergence is reached when the abs(newError - oldError) is less than the threshold."
   ]
  },
  {
   "cell_type": "code",
   "execution_count": 228,
   "metadata": {},
   "outputs": [
    {
     "name": "stdout",
     "output_type": "stream",
     "text": [
      "[0.01139455] [0.0066027] 0.0028462579756407856\n",
      "[0.0169804] [0.00984237] 0.0027788956936028405\n",
      "[0.02249325] [0.01304162] 0.002713262778008837\n",
      "[0.02793403] [0.01620098] 0.0026493148136392565\n",
      "[0.03330368] [0.01932097] 0.0025870085260032453\n",
      "[0.03860313] [0.02240209] 0.002526301752040954\n",
      "[0.04383327] [0.02544484] 0.00246715341157832\n",
      "[0.04899501] [0.02844972] 0.002409523479514994\n",
      "[0.05408922] [0.03141722] 0.0023533729587265737\n",
      "[0.05911679] [0.03434782] 0.0022986638536627935\n",
      "[0.06407857] [0.037242] 0.0022453591446237996\n",
      "[0.06897542] [0.04010022] 0.0021934227626970973\n",
      "[0.07380816] [0.04292295] 0.0021428195653382036\n",
      "[0.07857765] [0.04571065] 0.0020935153125784547\n",
      "[0.08328468] [0.04846378] 0.002045476643843895\n",
      "[0.08793007] [0.05118277] 0.001998671055369519\n",
      "[0.09251462] [0.05386807] 0.0019530668781935951\n",
      "[0.0970391] [0.05652011] 0.0019086332567171693\n",
      "[0.10150431] [0.05913932] 0.001865340127814227\n",
      "[0.105911] [0.06172613] 0.0018231582004783803\n",
      "[0.11025994] [0.06428095] 0.0017820589359922871\n",
      "[0.11455186] [0.0668042] 0.0017420145286063963\n",
      "[0.11878751] [0.06929629] 0.0017029978867139147\n",
      "[0.12296761] [0.07175761] 0.0016649826145092724\n",
      "[0.12709289] [0.07418856] 0.001627942994117653\n",
      "[0.13116404] [0.07658954] 0.0015918539681834994\n",
      "[0.13518178] [0.07896093] 0.0015566911229062013\n",
      "[0.13914679] [0.08130312] 0.0015224306715114885\n",
      "[0.14305975] [0.08361647] 0.0014890494381473223\n",
      "[0.14692133] [0.08590137] 0.0014565248421934067\n",
      "[0.15073221] [0.08815818] 0.001424834882973672\n",
      "[0.15449304] [0.09038727] 0.0013939581248613982\n",
      "[0.15820446] [0.09258898] 0.0013638736827668867\n",
      "[0.16186711] [0.09476367] 0.0013345612079978546\n",
      "[0.16548163] [0.0969117] 0.001306000874482983\n",
      "[0.16904863] [0.0990334] 0.0012781733653492889\n",
      "[0.17256873] [0.10112912] 0.0012510598598442348\n",
      "[0.17604254] [0.10319919] 0.0012246420205937207\n",
      "[0.17947065] [0.10524395] 0.0011989019811873343\n",
      "[0.18285367] [0.10726371] 0.0011738223340824504\n",
      "[0.18619216] [0.1092588] 0.001149386118818998\n",
      "[0.1894867] [0.11122954] 0.0011255768105369046\n",
      "[0.19273788] [0.11317625] 0.0011023783087884525\n",
      "[0.19594623] [0.11509922] 0.0010797749266379757\n",
      "[0.19911233] [0.11699878] 0.0010577513800415048\n",
      "[0.20223671] [0.11887522] 0.0010362927774991823\n",
      "[0.20531991] [0.12072884] 0.0010153846099734368\n",
      "[0.20836247] [0.12255993] 0.0009950127410660909\n",
      "[0.21136492] [0.12436879] 0.0009751633974477556\n",
      "[0.21432777] [0.1261557] 0.0009558231595330266\n",
      "[0.21725153] [0.12792094] 0.0009369789523951749\n",
      "[0.22013671] [0.1296648] 0.000918618036914175\n",
      "[0.22298381] [0.13138755] 0.0009007280011520846\n",
      "[0.22579332] [0.13308945] 0.0008832967519499293\n",
      "[0.22856573] [0.13477079] 0.0008663125067404105\n",
      "[0.23130151] [0.13643183] 0.0008497637855708867\n",
      "[0.23400115] [0.13807282] 0.0008336394033312334\n",
      "[0.2366651] [0.13969403] 0.0008179284621813159\n",
      "[0.23929383] [0.14129571] 0.0008026203441729488\n",
      "[0.2418878] [0.14287812] 0.0007877047040613505\n",
      "[0.24444746] [0.14444149] 0.0007731714623012211\n",
      "[0.24697324] [0.14598609] 0.0007590107982227049\n",
      "[0.24946559] [0.14751214] 0.0007452131433826147\n",
      "[0.25192494] [0.14901989] 0.0007317691750864224\n",
      "[0.25435172] [0.15050958] 0.0007186698100766238\n",
      "[0.25674634] [0.15198143] 0.000705906198383206\n",
      "[0.25910923] [0.15343568] 0.000693469717332058\n",
      "[0.26144079] [0.15487255] 0.0006813519657072616\n",
      "[0.26374143] [0.15629227] 0.0006695447580633175\n",
      "[0.26601155] [0.15769506] 0.0006580401191834495\n",
      "[0.26825155] [0.15908114] 0.000646830278680238\n",
      "[0.27046181] [0.16045072] 0.0006359076657349293\n",
      "[0.27264272] [0.16180401] 0.0006252649039718535\n",
      "[0.27479465] [0.16314123] 0.0006148948064644867\n",
      "[0.27691799] [0.16446259] 0.0006047903708697728\n",
      "[0.27901311] [0.16576828] 0.0005949447746874121\n",
      "[0.28108036] [0.1670585] 0.0005853513706409078\n",
      "[0.28312011] [0.16833347] 0.0005760036821772412\n",
      "[0.28513271] [0.16959337] 0.0005668953990821303\n",
      "[0.28711852] [0.1708384] 0.0005580203732079046\n",
      "[0.28907788] [0.17206875] 0.0005493726143110996\n",
      "[0.29101114] [0.17328461] 0.0005409462859969583\n",
      "[0.29291863] [0.17448616] 0.0005327357017680881\n",
      "[0.29480068] [0.1756736] 0.0005247353211746044\n",
      "[0.29665763] [0.1768471] 0.0005169397460631493\n",
      "[0.2984898] [0.17800684] 0.0005093437169222482\n",
      "[0.30029751] [0.179153] 0.0005019421093215306\n",
      "[0.30208108] [0.18028575] 0.0004947299304424013\n",
      "[0.30384081] [0.18140527] 0.00048770231569781746\n",
      "[0.30557702] [0.18251173] 0.00048085452543888084\n",
      "[0.30729002] [0.18360529] 0.0004741819417460142\n",
      "[0.30898009] [0.18468613] 0.0004676800653025513\n",
      "[0.31064755] [0.1857544] 0.0004613445123486251\n",
      "[0.31229268] [0.18681026] 0.0004551710117132875\n",
      "[0.31391576] [0.18785389] 0.00044915540192285586\n",
      "[0.31551709] [0.18888542] 0.00044329362838352635\n",
      "[0.31709695] [0.18990503] 0.0004375817406363464\n",
      "[0.31865562] [0.19091287] 0.0004320158896826898\n",
      "[0.32019336] [0.19190907] 0.00042659232537842033\n",
      "[0.32171045] [0.19289381] 0.00042130739389498433\n",
      "[0.32320717] [0.19386721] 0.0004161575352457093\n",
      "[0.32468376] [0.19482944] 0.00041113928087563534\n",
      "[0.32614049] [0.19578062] 0.00040624925131324763\n",
      "[0.32757762] [0.19672091] 0.0004014841538825212\n",
      "[0.3289954] [0.19765045] 0.0003968407804737269\n",
      "[0.33039409] [0.19856937] 0.0003923160053714899\n",
      "[0.33177393] [0.19947781] 0.00038790678313863297\n",
      "[0.33313515] [0.2003759] 0.0003836101465543672\n",
      "[0.33447802] [0.20126379] 0.0003794232046054379\n",
      "[0.33580275] [0.20214159] 0.00037534314052886517\n",
      "[0.3371096] [0.20300944] 0.00037136720990495144\n",
      "[0.33839878] [0.20386746] 0.0003674927387992692\n",
      "[0.33967052] [0.20471579] 0.00036371712195236655\n",
      "[0.34092506] [0.20555455] 0.0003600378210159681\n",
      "[0.34216262] [0.20638386] 0.0003564523628344766\n",
      "[0.34338341] [0.20720385] 0.00035295833777060934\n",
      "[0.34458765] [0.20801462] 0.00034955339807404005\n",
      "[0.34577556] [0.20881631] 0.0003462352562919374\n",
      "[0.34694735] [0.20960902] 0.00034300168372032813\n",
      "[0.34810322] [0.21039288] 0.00033985050889523183\n",
      "[0.34924339] [0.211168] 0.00033677961612255147\n",
      "[0.35036805] [0.21193448] 0.00033378694404571723\n",
      "[0.35147741] [0.21269245] 0.00033087048425012224\n",
      "[0.35257166] [0.213442] 0.0003280282799033975\n",
      "[0.353651] [0.21418326] 0.0003252584244306114\n",
      "[0.35471563] [0.21491632] 0.0003225590602234928\n",
      "[0.35576573] [0.21564129] 0.0003199283773828065\n",
      "[0.35680149] [0.21635827] 0.0003173646124930288\n",
      "[0.3578231] [0.21706737] 0.00031486604742849225\n",
      "[0.35883074] [0.21776869] 0.0003124310081901938\n",
      "[0.3598246] [0.21846233] 0.00031005786377247713\n",
      "[0.36080484] [0.21914839] 0.00030774502505882166\n",
      "[0.36177165] [0.21982695] 0.00030549094374599276\n",
      "[0.3627252] [0.22049813] 0.00030329411129582186\n",
      "[0.36366566] [0.22116202] 0.0003011530579139089\n",
      "[0.36459321] [0.2218187] 0.00029906635155455544\n",
      "[0.365508] [0.22246828] 0.0002970325969512539\n",
      "[0.36641021] [0.22311084] 0.00029505043467207713\n",
      "[0.36729999] [0.22374647] 0.00029311854019932834\n",
      "[0.36817751] [0.22437527] 0.0002912356230328295\n",
      "[0.36904293] [0.22499731] 0.00028940042581623984\n",
      "[0.3698964] [0.22561269] 0.0002876117234858127\n",
      "[0.37073808] [0.22622149] 0.0002858683224410161\n",
      "[0.37156812] [0.2268238] 0.00028416905973645414\n",
      "[0.37238668] [0.2274197] 0.0002825128022945425\n",
      "[0.37319389] [0.22800927] 0.0002808984461384044\n",
      "[0.37398991] [0.22859259] 0.00027932491564447003\n",
      "[0.37477489] [0.22916975] 0.0002777911628142697\n",
      "[0.37554896] [0.22974082] 0.0002762961665649307\n",
      "[0.37631226] [0.23030588] 0.0002748389320378973\n",
      "[0.37706494] [0.23086501] 0.0002734184899254031\n",
      "[0.37780714] [0.23141828] 0.0002720338958142438\n",
      "[0.37853899] [0.23196578] 0.0002706842295464026\n",
      "[0.37926062] [0.23250756] 0.0002693685945960982\n",
      "[0.37997216] [0.23304371] 0.00026808611746283087\n",
      "[0.38067375] [0.2335743] 0.00026683594708001797\n",
      "[0.38136552] [0.2340994] 0.00026561725423881723\n",
      "[0.3820476] [0.23461908] 0.00026442923102674884\n",
      "[0.3827201] [0.23513341] 0.0002632710902807343\n",
      "[0.38338315] [0.23564246] 0.00026214206505418473\n",
      "[0.38403688] [0.23614629] 0.00026104140809777443\n",
      "[0.3846814] [0.23664497] 0.0002599683913535508\n",
      "[0.38531684] [0.23713858] 0.0002589223054620375\n",
      "[0.38594332] [0.23762717] 0.0002579024592819957\n",
      "[0.38656094] [0.2381108] 0.00025690817942252043\n",
      "166\n"
     ]
    }
   ],
   "source": [
    "  def gd2(obsX, obsY, alpha, threshold):\n",
    "    \"\"\"\n",
    "    Input : observed vectors X, Y, alpha and threshold\n",
    "    Return theta0, theta1 from Gradient Descent L2 loss algorithm\n",
    "    Return: Iterations and L2 Error\n",
    "    \"\"\"\n",
    "    track = 0\n",
    "    t0 = 0\n",
    "    t1 = 0\n",
    "    \n",
    "    Ylen = len(obsY)\n",
    "    Xlen = len(obsX)\n",
    "    \n",
    "    Pt0 = 0\n",
    "    Pt0 = 0\n",
    "   \n",
    "    x1 =((obsX * t1) + t0)\n",
    "    minus1 = x1 - obsY\n",
    "    \n",
    "    t0 = t0 - alpha * sum(minus1)/Ylen\n",
    "    t1 = t1 - alpha * sum(minus1 * obsX) /Xlen\n",
    "    track = 1\n",
    "    PE = sqerror(obsX,obsY,theta0,theta1)\n",
    "    constant = 1\n",
    "    NE = PE + threshold + constant\n",
    "    \n",
    "    \n",
    "    while(abs(NE - PE) > threshold):\n",
    "        x1 = obsX * t1 + t0\n",
    "        minus1 = x1 - obsY\n",
    "        \n",
    "        t0 = t0 - alpha * sum(minus1)/Ylen\n",
    "        t1 = t1 - alpha * sum(minus1 * obsX) /Xlen\n",
    "        track += 1\n",
    "        PE = NE\n",
    "        NE = np.mean((obsX * t1 + t0 - obsY) ** 2) /Ylen\n",
    "\n",
    "        print(t0,t1,NE)\n",
    "    return t0, t1, NE, track\n",
    "    \n",
    "    \n",
    "    \n",
    "    \n",
    "\n",
    "[theta0,theta1,newError,iterations] = gd2(x,y,0.01,0.000001)\n",
    "print(iterations)"
   ]
  },
  {
   "cell_type": "code",
   "execution_count": 229,
   "metadata": {},
   "outputs": [
    {
     "data": {
      "text/plain": [
       "(array([0.38656094]), array([0.2381108]))"
      ]
     },
     "execution_count": 229,
     "metadata": {},
     "output_type": "execute_result"
    }
   ],
   "source": [
    "theta0, theta1\n"
   ]
  },
  {
   "cell_type": "markdown",
   "metadata": {},
   "source": [
    "### Compute Gradient Descent (Huber)\n",
    "Compute a formula for Pseudo huber gradient descent using derivative methods. Similar to L2 descent, use the new formulas (obtained from pseudo huber derivatives) to compute values of theta1, theta1, error. The pseudo huber loss function is provided in Part 2.3. Use that to differentiate the huber function to theta0 and theta1. \n",
    "\n",
    "Print out theta0 and theta1 for each iteration."
   ]
  },
  {
   "cell_type": "code",
   "execution_count": 243,
   "metadata": {},
   "outputs": [
    {
     "name": "stdout",
     "output_type": "stream",
     "text": [
      "0.003258873696563515 1e-06\n",
      "0.004837509915910264 0.003258873696563515 1e-06\n",
      "0.004837509915910264 0.004837509915910264 0.004837509915910264\n",
      "3\n"
     ]
    }
   ],
   "source": [
    "# given the observed data (obsX,obsY), learning rate (alpha), and desired error, \n",
    "# the function returns theta0, theta1, error and iterations\n",
    "# that reaches a minimum error threshold\n",
    "\n",
    "\n",
    "\n",
    "def gdh(obsX, obsY, alpha, threshold, delta):\n",
    "    \"\"\"\n",
    "    Input : observed vectors X, Y, alpha and threshold\n",
    "    Return theta0, theta1 from Gradient Descent huber loss algorithm\n",
    "    Return: Iterations and huber Error\n",
    "    \"\"\"\n",
    "    count = 1\n",
    "    PT0 = 0\n",
    "    PT1 = 0\n",
    "    \n",
    "    TC = PT0 - alpha*(np.sum(PT1*obsX+PT0)-obsY)\n",
    "    TP = PT1 - alpha*(np.sum(PT1*obsX+PT0-obsY)*obsX)\n",
    "    \n",
    "    PR = huberror(obsX,obsY,TC,TP,delta)\n",
    "    #First print\n",
    "    print(PR, threshold)\n",
    "    PT0 = TC\n",
    "    PT1 = TP\n",
    "    count+=1\n",
    "    \n",
    "    TC = PT0 - alpha*(np.sum(PT1*obsX+PT0)-obsY)\n",
    "    TP = PT1 - alpha*(np.sum(PT1*obsX+PT0-obsY)*obsX)\n",
    "    \n",
    "    NR =huberror(obsX,obsY,TC, TP,delta)\n",
    "    #Second Print\n",
    "    print(NR, PR, threshold)\n",
    "    while(abs(NR-PR) > threshold):\n",
    "        \n",
    "        PR = NR\n",
    "        PT0 = TC\n",
    "        PT1 = TP\n",
    "        count +=1\n",
    "        #Last print\n",
    "        print(NR, PR, PR)\n",
    "    return [TC,TP,NR,count]\n",
    "    print(TC, TP, NR)\n",
    "\n",
    "# testing    \n",
    "[theta0,theta1,newError,iterations] = gdh(x,y,0.01,0.000001,0.01)\n",
    "print(iterations)"
   ]
  },
  {
   "cell_type": "markdown",
   "metadata": {},
   "source": [
    "###  What values provided the min value through gradient descent?\n",
    "1. The values of theta0, theta1, alpha, error that provided the minimum value through gradient descent:\n",
    "    Theta0: .004837509915910264, Theta1: 0.004837509915910264, and alpha: 0.004837509915910264\n",
    "\n",
    "\n"
   ]
  },
  {
   "cell_type": "markdown",
   "metadata": {},
   "source": [
    "### Compare with Library Estimators\n",
    "Using the sklearn LinearRegression module to automate this process find the differences in intercept value."
   ]
  },
  {
   "cell_type": "code",
   "execution_count": 230,
   "metadata": {},
   "outputs": [
    {
     "name": "stdout",
     "output_type": "stream",
     "text": [
      "[0.29620134]\n",
      "[[0.5238794]]\n"
     ]
    }
   ],
   "source": [
    "from sklearn.linear_model import LinearRegression\n",
    "lm = LinearRegression()\n",
    "result = lm.fit(x,y)\n",
    "print(result.intercept_)\n",
    "print(result.coef_)"
   ]
  },
  {
   "cell_type": "code",
   "execution_count": 231,
   "metadata": {},
   "outputs": [
    {
     "data": {
      "text/plain": [
       "0.02342046127015977"
      ]
     },
     "execution_count": 231,
     "metadata": {},
     "output_type": "execute_result"
    }
   ],
   "source": [
    "theta0 = result.intercept_\n",
    "theta1 = result.coef_\n",
    "sqerror(x, y, theta0,theta1)"
   ]
  },
  {
   "cell_type": "markdown",
   "metadata": {},
   "source": [
    "## Predict the Final Exam Score\n",
    "The regression line was obtained using grades from CS 205 course. We can consider them to be training data. Now we trained a model (with theta0 and theta1) so we can predict the grade for your own course based on your midterm grade.\n",
    "We will do few things before we can accomplish this task."
   ]
  },
  {
   "cell_type": "markdown",
   "metadata": {},
   "source": [
    "### Read the supplied data into the project"
   ]
  },
  {
   "cell_type": "code",
   "execution_count": 125,
   "metadata": {},
   "outputs": [
    {
     "name": "stdout",
     "output_type": "stream",
     "text": [
      "<class 'pandas.core.frame.DataFrame'>\n",
      "RangeIndex: 97 entries, 0 to 96\n",
      "Data columns (total 1 columns):\n",
      "midterm    97 non-null float64\n",
      "dtypes: float64(1)\n",
      "memory usage: 856.0 bytes\n",
      "<class 'pandas.core.frame.DataFrame'>\n",
      "Int64Index: 96 entries, 0 to 96\n",
      "Data columns (total 1 columns):\n",
      "midterm    96 non-null float64\n",
      "dtypes: float64(1)\n",
      "memory usage: 1.5 KB\n"
     ]
    }
   ],
   "source": [
    "import pandas as pd\n",
    "df_439 = pd.read_csv(\"data/CS439_grades_03_15_19.csv\")\n",
    "df_439.info()\n",
    "mid = df_439[df_439['midterm']<80]\n",
    "mid.info()"
   ]
  },
  {
   "cell_type": "markdown",
   "metadata": {},
   "source": [
    "### Predict the Grade\n",
    "By scaling the values in the midterm grades of CS 439 and compute the estimated final exam grade. "
   ]
  },
  {
   "cell_type": "code",
   "execution_count": 196,
   "metadata": {},
   "outputs": [
    {
     "name": "stdout",
     "output_type": "stream",
     "text": [
      "61.5 [[61.9]]\n",
      "42.3 [[51.9]]\n",
      "52.6 [[57.2]]\n",
      "12.8 [[36.5]]\n",
      "94.9 [[79.3]]\n",
      "56.4 [[59.2]]\n",
      "39.7 [[50.5]]\n",
      "46.2 [[53.9]]\n",
      "43.6 [[52.6]]\n",
      "21.8 [[41.2]]\n",
      "48.7 [[55.2]]\n",
      "43.6 [[52.6]]\n",
      "75.6 [[69.3]]\n",
      "65.4 [[63.9]]\n",
      "52.6 [[57.2]]\n",
      "43.6 [[52.6]]\n",
      "61.5 [[61.9]]\n",
      "42.3 [[51.9]]\n",
      "60.3 [[61.3]]\n",
      "100.0 [[82.]]\n",
      "70.5 [[66.6]]\n",
      "61.5 [[61.9]]\n",
      "0.0 [[29.8]]\n",
      "53.8 [[57.9]]\n",
      "34.6 [[47.9]]\n",
      "83.3 [[73.3]]\n",
      "67.9 [[65.3]]\n",
      "91.0 [[77.3]]\n",
      "29.5 [[45.2]]\n",
      "73.1 [[67.9]]\n",
      "67.9 [[65.3]]\n",
      "2.6 [[31.1]]\n",
      "61.5 [[61.9]]\n",
      "69.2 [[65.9]]\n",
      "48.7 [[55.2]]\n",
      "98.7 [[81.3]]\n",
      "34.6 [[47.9]]\n",
      "60.3 [[61.3]]\n",
      "44.9 [[53.2]]\n",
      "50.0 [[55.9]]\n",
      "69.2 [[65.9]]\n",
      "60.3 [[61.3]]\n",
      "83.3 [[73.3]]\n",
      "26.9 [[43.9]]\n",
      "61.5 [[61.9]]\n",
      "20.5 [[40.5]]\n",
      "19.2 [[39.8]]\n",
      "6.4 [[33.1]]\n",
      "80.8 [[72.]]\n",
      "44.9 [[53.2]]\n",
      "26.9 [[43.9]]\n",
      "14.1 [[37.2]]\n",
      "67.9 [[65.3]]\n",
      "51.3 [[56.6]]\n",
      "24.4 [[42.5]]\n",
      "78.2 [[70.6]]\n",
      "23.1 [[41.8]]\n",
      "60.3 [[61.3]]\n",
      "71.8 [[67.3]]\n",
      "85.9 [[74.6]]\n",
      "50.0 [[55.9]]\n",
      "37.2 [[49.2]]\n",
      "73.1 [[67.9]]\n",
      "62.8 [[62.6]]\n",
      "59.0 [[60.6]]\n",
      "70.5 [[66.6]]\n",
      "5.1 [[32.5]]\n",
      "34.6 [[47.9]]\n",
      "19.2 [[39.8]]\n",
      "50.0 [[55.9]]\n",
      "67.9 [[65.3]]\n",
      "7.7 [[33.8]]\n",
      "67.9 [[65.3]]\n",
      "67.9 [[65.3]]\n",
      "53.8 [[57.9]]\n",
      "39.7 [[50.5]]\n",
      "43.6 [[52.6]]\n",
      "98.7 [[81.3]]\n",
      "79.5 [[71.3]]\n",
      "88.5 [[76.]]\n",
      "55.1 [[58.6]]\n",
      "65.4 [[63.9]]\n",
      "57.7 [[59.9]]\n",
      "46.2 [[53.9]]\n",
      "51.9 [[56.9]]\n",
      "70.5 [[66.6]]\n",
      "51.3 [[56.6]]\n",
      "43.6 [[52.6]]\n",
      "6.4 [[33.1]]\n",
      "30.8 [[45.9]]\n",
      "96.2 [[80.]]\n",
      "69.2 [[65.9]]\n",
      "64.1 [[63.3]]\n",
      "38.5 [[49.9]]\n",
      "42.3 [[51.9]]\n",
      "83.3 [[73.3]]\n"
     ]
    }
   ],
   "source": [
    "from sklearn import preprocessing\n",
    "\n",
    "\n",
    "sep = 'midterm'\n",
    "extend =  preprocessing.MinMaxScaler(feature_range=(29.8,82))\n",
    "\n",
    "\n",
    "ms = Full_List.fit_transform(mid[[sep]])\n",
    "\n",
    "\n",
    "fs = extend.fit_transform(ms)\n",
    "ms= np.round(ms,1)\n",
    "ms= ms.tolist()\n",
    "\n",
    "ms=[x[0] \n",
    "      for x in ms]\n",
    "#fs=[x[0]\n",
    "      # for x in fs]\n",
    "    \n",
    "fs = np.round(fs,1)\n",
    "Flen = len(final_score)\n",
    "\n",
    "for x in range(0,Flen):\n",
    "    print(ms[x], fs[[x]])\n",
    "    \n"
   ]
  }
 ],
 "metadata": {
  "kernelspec": {
   "display_name": "Python 3",
   "language": "python",
   "name": "python3"
  },
  "language_info": {
   "codemirror_mode": {
    "name": "ipython",
    "version": 3
   },
   "file_extension": ".py",
   "mimetype": "text/x-python",
   "name": "python",
   "nbconvert_exporter": "python",
   "pygments_lexer": "ipython3",
   "version": "3.7.3"
  }
 },
 "nbformat": 4,
 "nbformat_minor": 2
}
